{
  "nbformat": 4,
  "nbformat_minor": 0,
  "metadata": {
    "colab": {
      "name": "Eng_Hin_NMT_custom",
      "provenance": [],
      "collapsed_sections": [],
      "machine_shape": "hm",
      "mount_file_id": "1j0cpqfmp6bues9L_wFXCNLQu36pjd91S",
      "authorship_tag": "ABX9TyPLv+v6JmUbG+jX4Q6kymSH",
      "include_colab_link": true
    },
    "kernelspec": {
      "name": "python3",
      "display_name": "Python 3"
    },
    "accelerator": "GPU"
  },
  "cells": [
    {
      "cell_type": "markdown",
      "metadata": {
        "id": "view-in-github",
        "colab_type": "text"
      },
      "source": [
        "<a href=\"https://colab.research.google.com/github/rohan-vr/Natural-Language-Processing/blob/master/Eng_Hin_NMT_custom.ipynb\" target=\"_parent\"><img src=\"https://colab.research.google.com/assets/colab-badge.svg\" alt=\"Open In Colab\"/></a>"
      ]
    },
    {
      "cell_type": "markdown",
      "metadata": {
        "id": "tL-umFOCbvNZ",
        "colab_type": "text"
      },
      "source": [
        "Import all the necessary modules"
      ]
    },
    {
      "cell_type": "code",
      "metadata": {
        "id": "OqzKHmkW9-vx",
        "colab_type": "code",
        "outputId": "b765989a-ea59-43b3-957d-f2694dc0a884",
        "colab": {
          "base_uri": "https://localhost:8080/",
          "height": 34
        }
      },
      "source": [
        "from pickle import load\n",
        "from numpy import array\n",
        "from keras.preprocessing.text import Tokenizer\n",
        "from keras.preprocessing.sequence import pad_sequences\n",
        "from keras.utils.vis_utils import plot_model\n",
        "from keras.models import Sequential\n",
        "from keras.layers import LSTM\n",
        "from keras.layers import Dense, Bidirectional\n",
        "from keras.layers import Embedding\n",
        "from keras.layers import RepeatVector\n",
        "from keras.callbacks import ModelCheckpoint\n",
        "import matplotlib.pyplot as plt\n",
        "from keras.optimizers import RMSprop\n",
        "from keras.models import load_model\n",
        "import pandas as pd\n",
        "from nltk.translate.bleu_score import corpus_bleu"
      ],
      "execution_count": 3,
      "outputs": [
        {
          "output_type": "stream",
          "text": [
            "Using TensorFlow backend.\n"
          ],
          "name": "stderr"
        }
      ]
    },
    {
      "cell_type": "markdown",
      "metadata": {
        "id": "yoAZ2WQ4cmgb",
        "colab_type": "text"
      },
      "source": [
        "Now comes the part of loading our cleaned English and Hindi datasets and create tokenizer for English dataset and Hindi dataset and then we find the max length of sentences of English and Hindi. At last we encode sequences to prepare training data and validation data."
      ]
    },
    {
      "cell_type": "code",
      "metadata": {
        "id": "P3FJApFMcv2T",
        "colab_type": "code",
        "outputId": "54c17b17-837e-4c00-f56a-2bd4571d8c31",
        "colab": {
          "base_uri": "https://localhost:8080/",
          "height": 85
        }
      },
      "source": [
        "# load a clean dataset\n",
        "def load_clean_sentences(filename):\n",
        "\treturn load(open(filename, 'rb'))\n",
        "\n",
        "# fit a tokenizer\n",
        "def create_tokenizer(lines):\n",
        "\ttokenizer = Tokenizer()\n",
        "\ttokenizer.fit_on_texts(lines)\n",
        "\treturn tokenizer\n",
        "\n",
        "# max sentence length\n",
        "def max_length(lines):\n",
        "\treturn max(len(line.split()) for line in lines)\n",
        "\n",
        "# encode and pad sequences\n",
        "def encode_sequences(tokenizer, length, lines):\n",
        "\t# integer encode sequences\n",
        "\tX = tokenizer.texts_to_sequences(lines)\n",
        "\t# pad sequences with 0 values\n",
        "\tX = pad_sequences(X, maxlen=length, padding='post')\n",
        "\treturn X\n",
        "\n",
        "# load datasets\n",
        "dataset = load_clean_sentences('en-hi-both.pkl')\n",
        "train = load_clean_sentences('en-hi-train.pkl')\n",
        "test = load_clean_sentences('en-hi-test.pkl')\n",
        "\n",
        "# prepare english tokenizer\n",
        "eng_tokenizer = create_tokenizer(dataset[:, 0])\n",
        "eng_vocab_size = len(eng_tokenizer.word_index) + 1\n",
        "eng_length = max_length(dataset[:, 0])\n",
        "print('English Vocabulary Size: %d' % eng_vocab_size)\n",
        "print('English Max Length: %d' % (eng_length))\n",
        "\n",
        "# prepare german tokenizer\n",
        "hin_tokenizer = create_tokenizer(dataset[:, 1])\n",
        "hin_vocab_size = len(hin_tokenizer.word_index) + 1\n",
        "hin_length = max_length(dataset[:, 1])\n",
        "print('Hindi Vocabulary Size: %d' % hin_vocab_size)\n",
        "print('Hindi Max Length: %d' % (hin_length))\n",
        "\n",
        "# prepare training data\n",
        "trainX = encode_sequences(eng_tokenizer, eng_length, train[:, 0])\n",
        "trainY = encode_sequences(hin_tokenizer, hin_length, train[:, 1])\n",
        "\n",
        "# prepare validation data\n",
        "testX = encode_sequences(eng_tokenizer, eng_length, test[:, 0])\n",
        "testY = encode_sequences(hin_tokenizer, hin_length, test[:, 1])"
      ],
      "execution_count": 4,
      "outputs": [
        {
          "output_type": "stream",
          "text": [
            "English Vocabulary Size: 12550\n",
            "English Max Length: 15\n",
            "Hindi Vocabulary Size: 19645\n",
            "Hindi Max Length: 17\n"
          ],
          "name": "stdout"
        }
      ]
    },
    {
      "cell_type": "markdown",
      "metadata": {
        "id": "V_FcATkrenpU",
        "colab_type": "text"
      },
      "source": [
        "Now comes the part to define our model. Lets do it!"
      ]
    },
    {
      "cell_type": "code",
      "metadata": {
        "id": "rmwfmLFMexnn",
        "colab_type": "code",
        "outputId": "da460157-241a-4242-e717-bbf9236cfeb8",
        "colab": {
          "base_uri": "https://localhost:8080/",
          "height": 340
        }
      },
      "source": [
        "def define_model(src_vocab, tar_vocab, src_timesteps, tar_timesteps, n_units):\n",
        "\tmodel = Sequential()\n",
        "\tmodel.add(Embedding(src_vocab, n_units, input_length=src_timesteps, mask_zero=True))\n",
        "\tmodel.add(Bidirectional(LSTM(units=n_units)))\n",
        "\tmodel.add(RepeatVector(tar_timesteps))\n",
        "\tmodel.add(LSTM(n_units, return_sequences=True))\n",
        "\tmodel.add(Dense(tar_vocab, activation='softmax'))\n",
        "\treturn model\n",
        "\n",
        "model = define_model(eng_vocab_size, hin_vocab_size, eng_length, hin_length, 512)\n",
        "rms = RMSprop(lr=0.001)\n",
        "model.compile(optimizer=rms, loss='sparse_categorical_crossentropy')\n",
        "print(model.summary())"
      ],
      "execution_count": 5,
      "outputs": [
        {
          "output_type": "stream",
          "text": [
            "Model: \"sequential_1\"\n",
            "_________________________________________________________________\n",
            "Layer (type)                 Output Shape              Param #   \n",
            "=================================================================\n",
            "embedding_1 (Embedding)      (None, 15, 512)           6425600   \n",
            "_________________________________________________________________\n",
            "bidirectional_1 (Bidirection (None, 1024)              4198400   \n",
            "_________________________________________________________________\n",
            "repeat_vector_1 (RepeatVecto (None, 17, 1024)          0         \n",
            "_________________________________________________________________\n",
            "lstm_2 (LSTM)                (None, 17, 512)           3147776   \n",
            "_________________________________________________________________\n",
            "dense_1 (Dense)              (None, 17, 19645)         10077885  \n",
            "=================================================================\n",
            "Total params: 23,849,661\n",
            "Trainable params: 23,849,661\n",
            "Non-trainable params: 0\n",
            "_________________________________________________________________\n",
            "None\n"
          ],
          "name": "stdout"
        }
      ]
    },
    {
      "cell_type": "markdown",
      "metadata": {
        "id": "QgEyt8XUfB4U",
        "colab_type": "text"
      },
      "source": [
        "Now let us save the model. Dont forget to save checkpoints."
      ]
    },
    {
      "cell_type": "code",
      "metadata": {
        "id": "IN-Jc7KOfLB6",
        "colab_type": "code",
        "colab": {}
      },
      "source": [
        "filename = 'model.h1.26_april_20'\n",
        "checkpoint = ModelCheckpoint(filename, monitor='val_loss', verbose=1, save_best_only=True, mode='min')"
      ],
      "execution_count": 0,
      "outputs": []
    },
    {
      "cell_type": "markdown",
      "metadata": {
        "id": "wlmKN1Cvfi_Y",
        "colab_type": "text"
      },
      "source": [
        "Now let us train the model and keep a track of loss and validation loss which will help us to plot these two variables in a graph so we can visualize it easily."
      ]
    },
    {
      "cell_type": "code",
      "metadata": {
        "id": "f-9slzDxfw67",
        "colab_type": "code",
        "outputId": "b39b503e-1b94-404c-ab4d-1c41769f42d3",
        "colab": {
          "base_uri": "https://localhost:8080/",
          "height": 1000
        }
      },
      "source": [
        "history = model.fit(trainX, trainY.reshape(trainY.shape[0], trainY.shape[1], 1), epochs=30, batch_size=512, validation_split=0.1, callbacks=[checkpoint],  verbose=1)\n",
        "plt.plot(history.history['loss'])\n",
        "plt.plot(history.history['val_loss'])\n",
        "plt.legend(['train','validation'])\n",
        "plt.show()"
      ],
      "execution_count": 7,
      "outputs": [
        {
          "output_type": "stream",
          "text": [
            "/usr/local/lib/python3.6/dist-packages/tensorflow/python/framework/indexed_slices.py:434: UserWarning: Converting sparse IndexedSlices to a dense Tensor of unknown shape. This may consume a large amount of memory.\n",
            "  \"Converting sparse IndexedSlices to a dense Tensor of unknown shape. \"\n"
          ],
          "name": "stderr"
        },
        {
          "output_type": "stream",
          "text": [
            "Train on 121500 samples, validate on 13500 samples\n",
            "Epoch 1/30\n",
            "121500/121500 [==============================] - 245s 2ms/step - loss: 1.8548 - val_loss: 1.5784\n",
            "\n",
            "Epoch 00001: val_loss improved from inf to 1.57844, saving model to model.h1.26_april_20\n",
            "Epoch 2/30\n",
            "121500/121500 [==============================] - 242s 2ms/step - loss: 1.4691 - val_loss: 1.4007\n",
            "\n",
            "Epoch 00002: val_loss improved from 1.57844 to 1.40074, saving model to model.h1.26_april_20\n",
            "Epoch 3/30\n",
            "121500/121500 [==============================] - 242s 2ms/step - loss: 1.2768 - val_loss: 1.2177\n",
            "\n",
            "Epoch 00003: val_loss improved from 1.40074 to 1.21773, saving model to model.h1.26_april_20\n",
            "Epoch 4/30\n",
            "121500/121500 [==============================] - 241s 2ms/step - loss: 1.0784 - val_loss: 1.0511\n",
            "\n",
            "Epoch 00004: val_loss improved from 1.21773 to 1.05113, saving model to model.h1.26_april_20\n",
            "Epoch 5/30\n",
            "121500/121500 [==============================] - 240s 2ms/step - loss: 0.9209 - val_loss: 0.9377\n",
            "\n",
            "Epoch 00005: val_loss improved from 1.05113 to 0.93771, saving model to model.h1.26_april_20\n",
            "Epoch 6/30\n",
            "121500/121500 [==============================] - 239s 2ms/step - loss: 0.7983 - val_loss: 0.8518\n",
            "\n",
            "Epoch 00006: val_loss improved from 0.93771 to 0.85177, saving model to model.h1.26_april_20\n",
            "Epoch 7/30\n",
            "121500/121500 [==============================] - 241s 2ms/step - loss: 0.6977 - val_loss: 0.7853\n",
            "\n",
            "Epoch 00007: val_loss improved from 0.85177 to 0.78527, saving model to model.h1.26_april_20\n",
            "Epoch 8/30\n",
            "121500/121500 [==============================] - 242s 2ms/step - loss: 0.6200 - val_loss: 0.7214\n",
            "\n",
            "Epoch 00008: val_loss improved from 0.78527 to 0.72143, saving model to model.h1.26_april_20\n",
            "Epoch 9/30\n",
            "121500/121500 [==============================] - 242s 2ms/step - loss: 0.5567 - val_loss: 0.6836\n",
            "\n",
            "Epoch 00009: val_loss improved from 0.72143 to 0.68358, saving model to model.h1.26_april_20\n",
            "Epoch 10/30\n",
            "121500/121500 [==============================] - 242s 2ms/step - loss: 0.5049 - val_loss: 0.6435\n",
            "\n",
            "Epoch 00010: val_loss improved from 0.68358 to 0.64350, saving model to model.h1.26_april_20\n",
            "Epoch 11/30\n",
            "121500/121500 [==============================] - 242s 2ms/step - loss: 0.4627 - val_loss: 0.6210\n",
            "\n",
            "Epoch 00011: val_loss improved from 0.64350 to 0.62105, saving model to model.h1.26_april_20\n",
            "Epoch 12/30\n",
            "121500/121500 [==============================] - 242s 2ms/step - loss: 0.4268 - val_loss: 0.6046\n",
            "\n",
            "Epoch 00012: val_loss improved from 0.62105 to 0.60461, saving model to model.h1.26_april_20\n",
            "Epoch 13/30\n",
            "121500/121500 [==============================] - 242s 2ms/step - loss: 0.3960 - val_loss: 0.5890\n",
            "\n",
            "Epoch 00013: val_loss improved from 0.60461 to 0.58901, saving model to model.h1.26_april_20\n",
            "Epoch 14/30\n",
            "121500/121500 [==============================] - 242s 2ms/step - loss: 0.3684 - val_loss: 0.5822\n",
            "\n",
            "Epoch 00014: val_loss improved from 0.58901 to 0.58224, saving model to model.h1.26_april_20\n",
            "Epoch 15/30\n",
            "121500/121500 [==============================] - 242s 2ms/step - loss: 0.3444 - val_loss: 0.5742\n",
            "\n",
            "Epoch 00015: val_loss improved from 0.58224 to 0.57422, saving model to model.h1.26_april_20\n",
            "Epoch 16/30\n",
            "121500/121500 [==============================] - 242s 2ms/step - loss: 0.3228 - val_loss: 0.5690\n",
            "\n",
            "Epoch 00016: val_loss improved from 0.57422 to 0.56900, saving model to model.h1.26_april_20\n",
            "Epoch 17/30\n",
            "121500/121500 [==============================] - 243s 2ms/step - loss: 0.3041 - val_loss: 0.5618\n",
            "\n",
            "Epoch 00017: val_loss improved from 0.56900 to 0.56181, saving model to model.h1.26_april_20\n",
            "Epoch 18/30\n",
            "121500/121500 [==============================] - 242s 2ms/step - loss: 0.2858 - val_loss: 0.5589\n",
            "\n",
            "Epoch 00018: val_loss improved from 0.56181 to 0.55894, saving model to model.h1.26_april_20\n",
            "Epoch 19/30\n",
            "121500/121500 [==============================] - 242s 2ms/step - loss: 0.2698 - val_loss: 0.5545\n",
            "\n",
            "Epoch 00019: val_loss improved from 0.55894 to 0.55445, saving model to model.h1.26_april_20\n",
            "Epoch 20/30\n",
            "121500/121500 [==============================] - 242s 2ms/step - loss: 0.2559 - val_loss: 0.5604\n",
            "\n",
            "Epoch 00020: val_loss did not improve from 0.55445\n",
            "Epoch 21/30\n",
            "121500/121500 [==============================] - 242s 2ms/step - loss: 0.2418 - val_loss: 0.5555\n",
            "\n",
            "Epoch 00021: val_loss did not improve from 0.55445\n",
            "Epoch 22/30\n",
            "121500/121500 [==============================] - 242s 2ms/step - loss: 0.2293 - val_loss: 0.5551\n",
            "\n",
            "Epoch 00022: val_loss did not improve from 0.55445\n",
            "Epoch 23/30\n",
            "121500/121500 [==============================] - 242s 2ms/step - loss: 0.2183 - val_loss: 0.5521\n",
            "\n",
            "Epoch 00023: val_loss improved from 0.55445 to 0.55206, saving model to model.h1.26_april_20\n",
            "Epoch 24/30\n",
            "121500/121500 [==============================] - 242s 2ms/step - loss: 0.2077 - val_loss: 0.5544\n",
            "\n",
            "Epoch 00024: val_loss did not improve from 0.55206\n",
            "Epoch 25/30\n",
            "121500/121500 [==============================] - 242s 2ms/step - loss: 0.1981 - val_loss: 0.5538\n",
            "\n",
            "Epoch 00025: val_loss did not improve from 0.55206\n",
            "Epoch 26/30\n",
            "121500/121500 [==============================] - 242s 2ms/step - loss: 0.1896 - val_loss: 0.5533\n",
            "\n",
            "Epoch 00026: val_loss did not improve from 0.55206\n",
            "Epoch 27/30\n",
            "121500/121500 [==============================] - 242s 2ms/step - loss: 0.1817 - val_loss: 0.5536\n",
            "\n",
            "Epoch 00027: val_loss did not improve from 0.55206\n",
            "Epoch 28/30\n",
            "121500/121500 [==============================] - 242s 2ms/step - loss: 0.1743 - val_loss: 0.5534\n",
            "\n",
            "Epoch 00028: val_loss did not improve from 0.55206\n",
            "Epoch 29/30\n",
            "121500/121500 [==============================] - 242s 2ms/step - loss: 0.1676 - val_loss: 0.5551\n",
            "\n",
            "Epoch 00029: val_loss did not improve from 0.55206\n",
            "Epoch 30/30\n",
            "121500/121500 [==============================] - 242s 2ms/step - loss: 0.1613 - val_loss: 0.5564\n",
            "\n",
            "Epoch 00030: val_loss did not improve from 0.55206\n"
          ],
          "name": "stdout"
        },
        {
          "output_type": "display_data",
          "data": {
            "image/png": "[encoded data removed]",
            "text/plain": [
              "<Figure size 432x288 with 1 Axes>"
            ]
          },
          "metadata": {
            "tags": [],
            "needs_background": "light"
          }
        }
      ]
    },
    {
      "cell_type": "markdown",
      "metadata": {
        "id": "GqB0VGVaf-en",
        "colab_type": "text"
      },
      "source": [
        "Okay so now we are done with training. As we can see the graph, that is a pretty smooth curve! Now is the time to test our model. First we will load the model then make predictions over the test dataset we created."
      ]
    },
    {
      "cell_type": "code",
      "metadata": {
        "id": "9dpxYHbigGdu",
        "colab_type": "code",
        "outputId": "a96f0997-529c-4a12-c3b0-27296b8afd09",
        "colab": {
          "base_uri": "https://localhost:8080/",
          "height": 71
        }
      },
      "source": [
        "testX=testX[0:50] # lets take 50 sentences of test data set\n",
        "\n",
        "model = load_model('model.h1.26_april_20')\n",
        "\n",
        "preds = model.predict_classes(testX.reshape((testX.shape[0],testX.shape[1])))\n",
        "\n",
        "# a function that is going to grab words.\n",
        "def get_word(n, tokenizer):\n",
        "      for word, index in tokenizer.word_index.items():\n",
        "          if index == n:\n",
        "              return word\n",
        "      return None\n",
        "\n",
        "preds_text = []\n",
        "for i in preds:\n",
        "       temp = []\n",
        "       for j in range(len(i)):\n",
        "            t = get_word(i[j], hin_tokenizer)\n",
        "            if j > 0:\n",
        "                if (t == get_word(i[j-1], hin_tokenizer)) or (t == None):\n",
        "                     temp.append('')\n",
        "                else:\n",
        "                     temp.append(t)\n",
        "            else:\n",
        "                   if(t == None):\n",
        "                          temp.append('')\n",
        "                   else:\n",
        "                          temp.append(t) \n",
        "\n",
        "       preds_text.append(' '.join(temp))"
      ],
      "execution_count": 8,
      "outputs": [
        {
          "output_type": "stream",
          "text": [
            "/usr/local/lib/python3.6/dist-packages/tensorflow/python/framework/indexed_slices.py:434: UserWarning: Converting sparse IndexedSlices to a dense Tensor of unknown shape. This may consume a large amount of memory.\n",
            "  \"Converting sparse IndexedSlices to a dense Tensor of unknown shape. \"\n"
          ],
          "name": "stderr"
        }
      ]
    },
    {
      "cell_type": "markdown",
      "metadata": {
        "id": "f1joGDMwgY9P",
        "colab_type": "text"
      },
      "source": [
        "Okay so now time to see predictions. After that we will calculate BLEU scores. BLEU scores are the way to test how your model is performing the tranlsation task. It is calulated by comparing the actual translated text with the predicted translated text.\n",
        "\n",
        "Note: BLEU score cannot be 1"
      ]
    },
    {
      "cell_type": "code",
      "metadata": {
        "id": "NNCi_h-Ggd_N",
        "colab_type": "code",
        "outputId": "4b9e114f-d7d8-49e2-a3f1-61e6cc427747",
        "colab": {
          "base_uri": "https://localhost:8080/",
          "height": 514
        }
      },
      "source": [
        "import pandas as pd\n",
        "pred_df = pd.DataFrame({'input' : test[0:50,0], 'actual' : test[0:50,1], 'predicted' : preds_text})\n",
        "pred_df.sample(15)"
      ],
      "execution_count": 11,
      "outputs": [
        {
          "output_type": "execute_result",
          "data": {
            "text/html": [
              "<div>\n",
              "<style scoped>\n",
              "    .dataframe tbody tr th:only-of-type {\n",
              "        vertical-align: middle;\n",
              "    }\n",
              "\n",
              "    .dataframe tbody tr th {\n",
              "        vertical-align: top;\n",
              "    }\n",
              "\n",
              "    .dataframe thead th {\n",
              "        text-align: right;\n",
              "    }\n",
              "</style>\n",
              "<table border=\"1\" class=\"dataframe\">\n",
              "  <thead>\n",
              "    <tr style=\"text-align: right;\">\n",
              "      <th></th>\n",
              "      <th>input</th>\n",
              "      <th>actual</th>\n",
              "      <th>predicted</th>\n",
              "    </tr>\n",
              "  </thead>\n",
              "  <tbody>\n",
              "    <tr>\n",
              "      <th>30</th>\n",
              "      <td>sensitive</td>\n",
              "      <td>संवेदनशील</td>\n",
              "      <td>संवेदनशील</td>\n",
              "    </tr>\n",
              "    <tr>\n",
              "      <th>28</th>\n",
              "      <td>phrase not found</td>\n",
              "      <td>मुहावरा नहीं मिला</td>\n",
              "      <td>मुहावरा नहीं मिला</td>\n",
              "    </tr>\n",
              "    <tr>\n",
              "      <th>7</th>\n",
              "      <td>server unexpectedly disconnected</td>\n",
              "      <td>सर्वर अप्रत्याशित रूप से असंबंधित हो गया</td>\n",
              "      <td>सर्वर अप्रत्याशित रूप से असंबंधित</td>\n",
              "    </tr>\n",
              "    <tr>\n",
              "      <th>35</th>\n",
              "      <td>in the future</td>\n",
              "      <td>भविष्य में</td>\n",
              "      <td>भविष्य में</td>\n",
              "    </tr>\n",
              "    <tr>\n",
              "      <th>34</th>\n",
              "      <td>kde application templates</td>\n",
              "      <td>केडीई अनुप्रयोग टैम्प्लेट्स</td>\n",
              "      <td>केडीई अनुप्रयोग</td>\n",
              "    </tr>\n",
              "    <tr>\n",
              "      <th>6</th>\n",
              "      <td>open the specified playlist as an audio project</td>\n",
              "      <td>बतौर ऑडियो परियोजना निर्दिष्ट गीतसूची खोलें</td>\n",
              "      <td>बतौर ऑडियो परियोजना निर्दिष्ट गीतसूची खोलें   ...</td>\n",
              "    </tr>\n",
              "    <tr>\n",
              "      <th>19</th>\n",
              "      <td>toggle display of sun</td>\n",
              "      <td>सूर्य दिखाना टागल करें</td>\n",
              "      <td>ग्रह दिखाना  करें</td>\n",
              "    </tr>\n",
              "    <tr>\n",
              "      <th>36</th>\n",
              "      <td>the source of the alignment</td>\n",
              "      <td>संरेखण का स्रोत</td>\n",
              "      <td>संरेखण का स्रोत</td>\n",
              "    </tr>\n",
              "    <tr>\n",
              "      <th>32</th>\n",
              "      <td>porn groove</td>\n",
              "      <td>पॉर्न ग्रूव</td>\n",
              "      <td>सिर्फ को सहेजा à¤¨à¤¹à¥à¤</td>\n",
              "    </tr>\n",
              "    <tr>\n",
              "      <th>49</th>\n",
              "      <td>installed plugins</td>\n",
              "      <td>संस्थापित प्लगिन</td>\n",
              "      <td>संस्थापित प्लगिन</td>\n",
              "    </tr>\n",
              "    <tr>\n",
              "      <th>31</th>\n",
              "      <td>atlantic azores</td>\n",
              "      <td>एटलांटिकअजोरस</td>\n",
              "      <td>एटलांटिकअजोरस</td>\n",
              "    </tr>\n",
              "    <tr>\n",
              "      <th>20</th>\n",
              "      <td>please wait while evolution is restoring your ...</td>\n",
              "      <td>कृपया प्रतीक्षा करें जब तक एवोल्यूशन आपका आँकड...</td>\n",
              "      <td>कृपया प्रतीक्षा करें जब तक एवोल्यूशन आपका आँकड...</td>\n",
              "    </tr>\n",
              "    <tr>\n",
              "      <th>26</th>\n",
              "      <td>i cannot do a without variables</td>\n",
              "      <td>मैं बिना  वेरिएबल के   कर नहीं सकता</td>\n",
              "      <td>मैं बिना वेरिएबल के कर नहीं सकता</td>\n",
              "    </tr>\n",
              "    <tr>\n",
              "      <th>44</th>\n",
              "      <td>base card jack</td>\n",
              "      <td>आधार पत्ताः जोकर</td>\n",
              "      <td>आधार पत्ताः जोकर</td>\n",
              "    </tr>\n",
              "    <tr>\n",
              "      <th>42</th>\n",
              "      <td>are you sure you want to send a message withou...</td>\n",
              "      <td>क्या आप निश्चित हैं कि आप बिना विषय के संदेश भ...</td>\n",
              "      <td>क्या आप निश्चित हैं कि आप बिना विषय के संदेश भ...</td>\n",
              "    </tr>\n",
              "  </tbody>\n",
              "</table>\n",
              "</div>"
            ],
            "text/plain": [
              "                                                input  ...                                          predicted\n",
              "30                                          sensitive  ...                          संवेदनशील                \n",
              "28                                   phrase not found  ...                    मुहावरा नहीं मिला              \n",
              "7                    server unexpectedly disconnected  ...      सर्वर अप्रत्याशित रूप से असंबंधित            \n",
              "35                                      in the future  ...                          भविष्य में               \n",
              "34                          kde application templates  ...                     केडीई अनुप्रयोग               \n",
              "6     open the specified playlist as an audio project  ...  बतौर ऑडियो परियोजना निर्दिष्ट गीतसूची खोलें   ...\n",
              "19                              toggle display of sun  ...                     ग्रह दिखाना  करें             \n",
              "36                        the source of the alignment  ...                      संरेखण का स्रोत              \n",
              "32                                        porn groove  ...           सिर्फ को सहेजा à¤¨à¤¹à¥à¤             \n",
              "49                                  installed plugins  ...                    संस्थापित प्लगिन               \n",
              "31                                    atlantic azores  ...                      एटलांटिकअजोरस                \n",
              "20  please wait while evolution is restoring your ...  ...  कृपया प्रतीक्षा करें जब तक एवोल्यूशन आपका आँकड...\n",
              "26                    i cannot do a without variables  ...         मैं बिना वेरिएबल के कर नहीं सकता          \n",
              "44                                     base card jack  ...                     आधार पत्ताः जोकर              \n",
              "42  are you sure you want to send a message withou...  ...  क्या आप निश्चित हैं कि आप बिना विषय के संदेश भ...\n",
              "\n",
              "[15 rows x 3 columns]"
            ]
          },
          "metadata": {
            "tags": []
          },
          "execution_count": 11
        }
      ]
    },
    {
      "cell_type": "markdown",
      "metadata": {
        "id": "pV1DPC6ej9Ui",
        "colab_type": "text"
      },
      "source": [
        "Okay so now we got some satisfying results. That is it. We are done with translation."
      ]
    }
  ]
}