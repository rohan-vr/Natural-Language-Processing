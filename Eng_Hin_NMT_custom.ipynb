{
  "nbformat": 4,
  "nbformat_minor": 0,
  "metadata": {
    "colab": {
      "name": "Eng_Hin_NMT_custom",
      "provenance": [],
      "collapsed_sections": [],
      "machine_shape": "hm",
      "mount_file_id": "1j0cpqfmp6bues9L_wFXCNLQu36pjd91S",
      "authorship_tag": "ABX9TyOQRgfh4PKf0JOhmsWClU1y",
      "include_colab_link": true
    },
    "kernelspec": {
      "name": "python3",
      "display_name": "Python 3"
    },
    "accelerator": "GPU"
  },
  "cells": [
    {
      "cell_type": "markdown",
      "metadata": {
        "id": "view-in-github",
        "colab_type": "text"
      },
      "source": [
        "<a href=\"https://colab.research.google.com/github/rohan-vr/Natural-Language-Processing/blob/master/Eng_Hin_NMT_custom.ipynb\" target=\"_parent\"><img src=\"https://colab.research.google.com/assets/colab-badge.svg\" alt=\"Open In Colab\"/></a>"
      ]
    },
    {
      "cell_type": "markdown",
      "metadata": {
        "id": "tL-umFOCbvNZ",
        "colab_type": "text"
      },
      "source": [
        "Import all the necessary modules"
      ]
    },
    {
      "cell_type": "code",
      "metadata": {
        "id": "OqzKHmkW9-vx",
        "colab_type": "code",
        "colab": {}
      },
      "source": [
        "from pickle import load\n",
        "from numpy import array\n",
        "from keras.preprocessing.text import Tokenizer\n",
        "from keras.preprocessing.sequence import pad_sequences\n",
        "from keras.utils.vis_utils import plot_model\n",
        "from keras.models import Sequential\n",
        "from keras.layers import LSTM, GRU\n",
        "from keras.layers import Dense, Bidirectional, TimeDistributed\n",
        "from keras.layers import Embedding\n",
        "from keras.layers import RepeatVector\n",
        "from keras.callbacks import ModelCheckpoint\n",
        "import matplotlib.pyplot as plt\n",
        "from keras.optimizers import RMSprop\n",
        "from keras.models import load_model\n",
        "import pandas as pd\n",
        "from nltk.translate.bleu_score import corpus_bleu"
      ],
      "execution_count": 0,
      "outputs": []
    },
    {
      "cell_type": "markdown",
      "metadata": {
        "id": "yoAZ2WQ4cmgb",
        "colab_type": "text"
      },
      "source": [
        "Now comes the part of loading our cleaned English and Hindi datasets and create tokenizer for English dataset and Hindi dataset and then we find the max length of sentences of English and Hindi. At last we encode sequences to prepare training data and validation data."
      ]
    },
    {
      "cell_type": "code",
      "metadata": {
        "id": "P3FJApFMcv2T",
        "colab_type": "code",
        "outputId": "b15b1066-819d-4308-9763-a96c33543b5a",
        "colab": {
          "base_uri": "https://localhost:8080/",
          "height": 85
        }
      },
      "source": [
        "# load a clean dataset\n",
        "def load_clean_sentences(filename):\n",
        "\treturn load(open(filename, 'rb'))\n",
        "\n",
        "# fit a tokenizer\n",
        "def create_tokenizer(lines):\n",
        "\ttokenizer = Tokenizer()\n",
        "\ttokenizer.fit_on_texts(lines)\n",
        "\treturn tokenizer\n",
        "\n",
        "# max sentence length\n",
        "def max_length(lines):\n",
        "\treturn max(len(line.split()) for line in lines)\n",
        "\n",
        "# encode and pad sequences\n",
        "def encode_sequences(tokenizer, length, lines):\n",
        "\t# integer encode sequences\n",
        "\tX = tokenizer.texts_to_sequences(lines)\n",
        "\t# pad sequences with 0 values\n",
        "\tX = pad_sequences(X, maxlen=length, padding='post')\n",
        "\treturn X\n",
        "\n",
        "# load datasets\n",
        "dataset = load_clean_sentences('en-hi-both.pkl')\n",
        "train = load_clean_sentences('en-hi-train.pkl')\n",
        "test = load_clean_sentences('en-hi-test.pkl')\n",
        "\n",
        "\n",
        "# prepare english tokenizer\n",
        "eng_tokenizer = create_tokenizer(dataset[:, 0])\n",
        "eng_vocab_size = len(eng_tokenizer.word_index) + 1\n",
        "eng_length = max_length(dataset[:, 0])\n",
        "print('English Vocabulary Size: %d' % eng_vocab_size)\n",
        "print('English Max Length: %d' % (eng_length))\n",
        "\n",
        "\n",
        "# prepare hindi tokenizer\n",
        "hin_tokenizer = create_tokenizer(dataset[:, 1])\n",
        "hin_vocab_size = len(hin_tokenizer.word_index) + 1\n",
        "hin_length = max_length(dataset[:, 1])\n",
        "print('Hindi Vocabulary Size: %d' % hin_vocab_size)\n",
        "print('Hindi Max Length: %d' % (hin_length))\n",
        "\n",
        "# prepare training data\n",
        "trainX = encode_sequences(eng_tokenizer, eng_length, train[:, 0])\n",
        "trainY = encode_sequences(hin_tokenizer, hin_length, train[:, 1])\n",
        "\n",
        "# prepare validation data\n",
        "testX = encode_sequences(eng_tokenizer, eng_length, test[:, 0])\n",
        "testY = encode_sequences(hin_tokenizer, hin_length, test[:, 1])"
      ],
      "execution_count": 11,
      "outputs": [
        {
          "output_type": "stream",
          "text": [
            "English Vocabulary Size: 12550\n",
            "English Max Length: 15\n",
            "Hindi Vocabulary Size: 19645\n",
            "Hindi Max Length: 17\n"
          ],
          "name": "stdout"
        }
      ]
    },
    {
      "cell_type": "markdown",
      "metadata": {
        "id": "V_FcATkrenpU",
        "colab_type": "text"
      },
      "source": [
        "Now comes the part to define our model. Lets do it!"
      ]
    },
    {
      "cell_type": "code",
      "metadata": {
        "id": "rmwfmLFMexnn",
        "colab_type": "code",
        "outputId": "14a6729e-a2c8-4289-87f7-22cb072c2d48",
        "colab": {
          "base_uri": "https://localhost:8080/",
          "height": 340
        }
      },
      "source": [
        "def define_model(src_vocab, tar_vocab, src_timesteps, tar_timesteps, n_units):\n",
        "\tmodel = Sequential()\n",
        "\tmodel.add(Embedding(src_vocab, n_units, input_length=src_timesteps, mask_zero=True))\n",
        "\tmodel.add(Bidirectional(GRU(units=n_units)))\n",
        "\tmodel.add(RepeatVector(tar_timesteps))\n",
        "\tmodel.add(Bidirectional(GRU(n_units, return_sequences=True)))\n",
        "\tmodel.add(TimeDistributed(Dense(tar_vocab, activation='softmax')))\n",
        "\treturn model\n",
        "\n",
        "model = define_model(eng_vocab_size, hin_vocab_size, eng_length, hin_length, 512)\n",
        "rms = RMSprop(lr=0.002)\n",
        "model.compile(optimizer=rms, loss='sparse_categorical_crossentropy')\n",
        "print(model.summary())"
      ],
      "execution_count": 12,
      "outputs": [
        {
          "output_type": "stream",
          "text": [
            "Model: \"sequential_2\"\n",
            "_________________________________________________________________\n",
            "Layer (type)                 Output Shape              Param #   \n",
            "=================================================================\n",
            "embedding_2 (Embedding)      (None, 15, 512)           6425600   \n",
            "_________________________________________________________________\n",
            "bidirectional_3 (Bidirection (None, 1024)              3148800   \n",
            "_________________________________________________________________\n",
            "repeat_vector_2 (RepeatVecto (None, 17, 1024)          0         \n",
            "_________________________________________________________________\n",
            "bidirectional_4 (Bidirection (None, 17, 1024)          4721664   \n",
            "_________________________________________________________________\n",
            "time_distributed_2 (TimeDist (None, 17, 19645)         20136125  \n",
            "=================================================================\n",
            "Total params: 34,432,189\n",
            "Trainable params: 34,432,189\n",
            "Non-trainable params: 0\n",
            "_________________________________________________________________\n",
            "None\n"
          ],
          "name": "stdout"
        }
      ]
    },
    {
      "cell_type": "markdown",
      "metadata": {
        "id": "QgEyt8XUfB4U",
        "colab_type": "text"
      },
      "source": [
        "Now let us save the model. Dont forget to save checkpoints."
      ]
    },
    {
      "cell_type": "code",
      "metadata": {
        "id": "IN-Jc7KOfLB6",
        "colab_type": "code",
        "colab": {}
      },
      "source": [
        "filename = 'model.h1.5_may_20'\n",
        "checkpoint = ModelCheckpoint(filename, monitor='val_loss', verbose=1, save_best_only=True, mode='min')"
      ],
      "execution_count": 0,
      "outputs": []
    },
    {
      "cell_type": "markdown",
      "metadata": {
        "id": "wlmKN1Cvfi_Y",
        "colab_type": "text"
      },
      "source": [
        "Now let us train the model and keep a track of loss and validation loss which will help us to plot these two variables in a graph so we can visualize it easily."
      ]
    },
    {
      "cell_type": "code",
      "metadata": {
        "id": "f-9slzDxfw67",
        "colab_type": "code",
        "outputId": "f167e575-1d1f-4001-8b0f-1b8dffbd5973",
        "colab": {
          "base_uri": "https://localhost:8080/",
          "height": 1000
        }
      },
      "source": [
        "history = model.fit(trainX, trainY.reshape(trainY.shape[0], trainY.shape[1], 1), epochs=10, batch_size=512, validation_split=0.1, callbacks=[checkpoint],  verbose=1)\n",
        "plt.plot(history.history['loss'])\n",
        "plt.plot(history.history['val_loss'])\n",
        "plt.legend(['train','validation'])\n",
        "plt.show()"
      ],
      "execution_count": 14,
      "outputs": [
        {
          "output_type": "stream",
          "text": [
            "/usr/local/lib/python3.6/dist-packages/tensorflow/python/framework/indexed_slices.py:434: UserWarning: Converting sparse IndexedSlices to a dense Tensor of unknown shape. This may consume a large amount of memory.\n",
            "  \"Converting sparse IndexedSlices to a dense Tensor of unknown shape. \"\n"
          ],
          "name": "stderr"
        },
        {
          "output_type": "stream",
          "text": [
            "Train on 121500 samples, validate on 13500 samples\n",
            "Epoch 1/10\n",
            "121500/121500 [==============================] - 271s 2ms/step - loss: 1.6874 - val_loss: 1.2390\n",
            "\n",
            "Epoch 00001: val_loss improved from inf to 1.23903, saving model to model.h1.5_may_20\n",
            "Epoch 2/10\n",
            "121500/121500 [==============================] - 272s 2ms/step - loss: 0.9720 - val_loss: 0.8565\n",
            "\n",
            "Epoch 00002: val_loss improved from 1.23903 to 0.85654, saving model to model.h1.5_may_20\n",
            "Epoch 3/10\n",
            "121500/121500 [==============================] - 269s 2ms/step - loss: 0.6985 - val_loss: 0.7126\n",
            "\n",
            "Epoch 00003: val_loss improved from 0.85654 to 0.71259, saving model to model.h1.5_may_20\n",
            "Epoch 4/10\n",
            "121500/121500 [==============================] - 271s 2ms/step - loss: 0.5584 - val_loss: 0.6450\n",
            "\n",
            "Epoch 00004: val_loss improved from 0.71259 to 0.64500, saving model to model.h1.5_may_20\n",
            "Epoch 5/10\n",
            "121500/121500 [==============================] - 273s 2ms/step - loss: 0.4653 - val_loss: 0.6374\n",
            "\n",
            "Epoch 00005: val_loss improved from 0.64500 to 0.63743, saving model to model.h1.5_may_20\n",
            "Epoch 6/10\n",
            "121500/121500 [==============================] - 272s 2ms/step - loss: 0.3972 - val_loss: 0.5885\n",
            "\n",
            "Epoch 00006: val_loss improved from 0.63743 to 0.58848, saving model to model.h1.5_may_20\n",
            "Epoch 7/10\n",
            "121500/121500 [==============================] - 270s 2ms/step - loss: 0.3448 - val_loss: 0.5844\n",
            "\n",
            "Epoch 00007: val_loss improved from 0.58848 to 0.58437, saving model to model.h1.5_may_20\n",
            "Epoch 8/10\n",
            "121500/121500 [==============================] - 269s 2ms/step - loss: 0.3052 - val_loss: 0.5513\n",
            "\n",
            "Epoch 00008: val_loss improved from 0.58437 to 0.55127, saving model to model.h1.5_may_20\n",
            "Epoch 9/10\n",
            "121500/121500 [==============================] - 273s 2ms/step - loss: 0.2732 - val_loss: 0.5468\n",
            "\n",
            "Epoch 00009: val_loss improved from 0.55127 to 0.54676, saving model to model.h1.5_may_20\n",
            "Epoch 10/10\n",
            "121500/121500 [==============================] - 277s 2ms/step - loss: 0.2464 - val_loss: 0.5382\n",
            "\n",
            "Epoch 00010: val_loss improved from 0.54676 to 0.53817, saving model to model.h1.5_may_20\n"
          ],
          "name": "stdout"
        },
        {
          "output_type": "display_data",
          "data": {
            "image/png": "[encoded data removed]",
            "text/plain": [
              "<Figure size 432x288 with 1 Axes>"
            ]
          },
          "metadata": {
            "tags": [],
            "needs_background": "light"
          }
        }
      ]
    },
    {
      "cell_type": "markdown",
      "metadata": {
        "id": "GqB0VGVaf-en",
        "colab_type": "text"
      },
      "source": [
        "Okay so now we are done with training. As we can see the graph, that is a pretty smooth curve! Now is the time to test our model. First we will load the model then make predictions over the test dataset we created."
      ]
    },
    {
      "cell_type": "code",
      "metadata": {
        "id": "9dpxYHbigGdu",
        "colab_type": "code",
        "outputId": "e72ef14e-73ce-411e-a0a9-81127a215323",
        "colab": {
          "base_uri": "https://localhost:8080/",
          "height": 71
        }
      },
      "source": [
        "testX=testX[0:50] # lets take 50 sentences of test data set\n",
        "\n",
        "model = load_model('/content/model.h1.5_may_20')\n",
        "\n",
        "preds = model.predict_classes(testX.reshape((testX.shape[0],testX.shape[1])))\n",
        "\n",
        "# a function that is going to grab words.\n",
        "def get_word(n, tokenizer):\n",
        "      for word, index in tokenizer.word_index.items():\n",
        "          if index == n:\n",
        "              return word\n",
        "      return None\n",
        "\n",
        "preds_text = []\n",
        "for i in preds:\n",
        "       temp = []\n",
        "       for j in range(len(i)):\n",
        "            t = get_word(i[j], hin_tokenizer)\n",
        "            if j > 0:\n",
        "                if (t == get_word(i[j-1], hin_tokenizer)) or (t == None):\n",
        "                     temp.append('')\n",
        "                else:\n",
        "                     temp.append(t)\n",
        "            else:\n",
        "                   if(t == None):\n",
        "                          temp.append('')\n",
        "                   else:\n",
        "                          temp.append(t) \n",
        "\n",
        "       preds_text.append(' '.join(temp))"
      ],
      "execution_count": 15,
      "outputs": [
        {
          "output_type": "stream",
          "text": [
            "/usr/local/lib/python3.6/dist-packages/tensorflow/python/framework/indexed_slices.py:434: UserWarning: Converting sparse IndexedSlices to a dense Tensor of unknown shape. This may consume a large amount of memory.\n",
            "  \"Converting sparse IndexedSlices to a dense Tensor of unknown shape. \"\n"
          ],
          "name": "stderr"
        }
      ]
    },
    {
      "cell_type": "markdown",
      "metadata": {
        "id": "f1joGDMwgY9P",
        "colab_type": "text"
      },
      "source": [
        "Okay so now time to see predictions. "
      ]
    },
    {
      "cell_type": "code",
      "metadata": {
        "id": "NNCi_h-Ggd_N",
        "colab_type": "code",
        "outputId": "b0c8c000-e190-4582-95a7-b2dd5e4da63e",
        "colab": {
          "base_uri": "https://localhost:8080/",
          "height": 514
        }
      },
      "source": [
        "import pandas as pd\n",
        "pred_df = pd.DataFrame({'input' : test[0:50,0], 'actual' : test[0:50,1], 'predicted' : preds_text})\n",
        "pred_df.sample(15)"
      ],
      "execution_count": 16,
      "outputs": [
        {
          "output_type": "execute_result",
          "data": {
            "text/html": [
              "<div>\n",
              "<style scoped>\n",
              "    .dataframe tbody tr th:only-of-type {\n",
              "        vertical-align: middle;\n",
              "    }\n",
              "\n",
              "    .dataframe tbody tr th {\n",
              "        vertical-align: top;\n",
              "    }\n",
              "\n",
              "    .dataframe thead th {\n",
              "        text-align: right;\n",
              "    }\n",
              "</style>\n",
              "<table border=\"1\" class=\"dataframe\">\n",
              "  <thead>\n",
              "    <tr style=\"text-align: right;\">\n",
              "      <th></th>\n",
              "      <th>input</th>\n",
              "      <th>actual</th>\n",
              "      <th>predicted</th>\n",
              "    </tr>\n",
              "  </thead>\n",
              "  <tbody>\n",
              "    <tr>\n",
              "      <th>2</th>\n",
              "      <td>program attached</td>\n",
              "      <td>प्रोग्राम नहीं</td>\n",
              "      <td>प्रोग्राम नहीं</td>\n",
              "    </tr>\n",
              "    <tr>\n",
              "      <th>21</th>\n",
              "      <td>line up parentheses</td>\n",
              "      <td>पंक्ति ऊपर</td>\n",
              "      <td>पंक्ति ऊपर</td>\n",
              "    </tr>\n",
              "    <tr>\n",
              "      <th>44</th>\n",
              "      <td>the column the widget resides in</td>\n",
              "      <td>स्तंभ जिसमें विजेट रहता है</td>\n",
              "      <td>स्तंभ जिसमें विजेट रहता है</td>\n",
              "    </tr>\n",
              "    <tr>\n",
              "      <th>27</th>\n",
              "      <td>redo all</td>\n",
              "      <td>सभी फिर से करें</td>\n",
              "      <td>सभी à¤à¥</td>\n",
              "    </tr>\n",
              "    <tr>\n",
              "      <th>3</th>\n",
              "      <td>error the trigger key can only contain alphanu...</td>\n",
              "      <td>त्रुटि अक्षर और</td>\n",
              "      <td>त्रुटि अक्षर और</td>\n",
              "    </tr>\n",
              "    <tr>\n",
              "      <th>10</th>\n",
              "      <td>invalid message contents</td>\n",
              "      <td>अवैध संदेश अंतर्वस्तु</td>\n",
              "      <td>अवैध संदेश</td>\n",
              "    </tr>\n",
              "    <tr>\n",
              "      <th>46</th>\n",
              "      <td>you must specify a folder</td>\n",
              "      <td>आप अवश्य एक फ़ोल्डर निर्दिष्ठ करें</td>\n",
              "      <td>आप अवश्य एक फ़ोल्डर निर्दिष्ठ करें</td>\n",
              "    </tr>\n",
              "    <tr>\n",
              "      <th>9</th>\n",
              "      <td>atlantic madeira</td>\n",
              "      <td>एटलांटिकमडायरा</td>\n",
              "      <td>एटलांटिकमडायरा</td>\n",
              "    </tr>\n",
              "    <tr>\n",
              "      <th>34</th>\n",
              "      <td>description</td>\n",
              "      <td>वर्णनः</td>\n",
              "      <td>वर्णनः</td>\n",
              "    </tr>\n",
              "    <tr>\n",
              "      <th>14</th>\n",
              "      <td>remove</td>\n",
              "      <td>हटाएँ</td>\n",
              "      <td>हटाएँ</td>\n",
              "    </tr>\n",
              "    <tr>\n",
              "      <th>15</th>\n",
              "      <td>you are banned from this channel</td>\n",
              "      <td>आपको इस चैनल से प्रतिबंधित किया गया है</td>\n",
              "      <td>आपको इस चैनल से प्रतिबंधित किया गया है</td>\n",
              "    </tr>\n",
              "    <tr>\n",
              "      <th>11</th>\n",
              "      <td>last session import failed</td>\n",
              "      <td>अंतिम सत्र आयात असफल</td>\n",
              "      <td>अंतिम सत्र आयात असफल</td>\n",
              "    </tr>\n",
              "    <tr>\n",
              "      <th>26</th>\n",
              "      <td>plugin</td>\n",
              "      <td>प्लगइन</td>\n",
              "      <td>प्लगइन</td>\n",
              "    </tr>\n",
              "    <tr>\n",
              "      <th>45</th>\n",
              "      <td>important</td>\n",
              "      <td>महत्वपूर्ण</td>\n",
              "      <td>आयात</td>\n",
              "    </tr>\n",
              "    <tr>\n",
              "      <th>40</th>\n",
              "      <td>phrase not found</td>\n",
              "      <td>मुहावरा नहीं मिला</td>\n",
              "      <td>मुहावरा नहीं मिला</td>\n",
              "    </tr>\n",
              "  </tbody>\n",
              "</table>\n",
              "</div>"
            ],
            "text/plain": [
              "                                                input  ...                                        predicted\n",
              "2                                    program attached  ...                    प्रोग्राम नहीं               \n",
              "21                                line up parentheses  ...                        पंक्ति ऊपर               \n",
              "44                   the column the widget resides in  ...           स्तंभ जिसमें विजेट रहता है            \n",
              "27                                           redo all  ...                        सभी à¤à¥               \n",
              "3   error the trigger key can only contain alphanu...  ...                    त्रुटि अक्षर और              \n",
              "10                           invalid message contents  ...                        अवैध संदेश               \n",
              "46                          you must specify a folder  ...    आप अवश्य एक फ़ोल्डर निर्दिष्ठ करें           \n",
              "9                                    atlantic madeira  ...                   एटलांटिकमडायरा                \n",
              "34                                        description  ...                           वर्णनः                \n",
              "14                                             remove  ...                            हटाएँ                \n",
              "15                   you are banned from this channel  ...  आपको इस चैनल से प्रतिबंधित किया गया है         \n",
              "11                         last session import failed  ...                अंतिम सत्र आयात असफल             \n",
              "26                                             plugin  ...                           प्लगइन                \n",
              "45                                          important  ...                             आयात                \n",
              "40                                   phrase not found  ...                  मुहावरा नहीं मिला              \n",
              "\n",
              "[15 rows x 3 columns]"
            ]
          },
          "metadata": {
            "tags": []
          },
          "execution_count": 16
        }
      ]
    },
    {
      "cell_type": "markdown",
      "metadata": {
        "id": "pV1DPC6ej9Ui",
        "colab_type": "text"
      },
      "source": [
        "Okay so now we got some satisfying results. That is it. We are done with translation."
      ]
    }
  ]
}