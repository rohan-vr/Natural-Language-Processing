{
  "nbformat": 4,
  "nbformat_minor": 0,
  "metadata": {
    "colab": {
      "name": "Eng_Hin_NMT_custom",
      "provenance": [],
      "collapsed_sections": [],
      "machine_shape": "hm",
      "mount_file_id": "1j0cpqfmp6bues9L_wFXCNLQu36pjd91S",
      "authorship_tag": "ABX9TyNNo4grpyOJcvcklgQU3Lk0",
      "include_colab_link": true
    },
    "kernelspec": {
      "name": "python3",
      "display_name": "Python 3"
    },
    "accelerator": "GPU"
  },
  "cells": [
    {
      "cell_type": "markdown",
      "metadata": {
        "id": "view-in-github",
        "colab_type": "text"
      },
      "source": [
        "<a href=\"https://colab.research.google.com/github/rohan-vr/Natural-Language-Processing/blob/master/Eng_Hin_NMT_custom.ipynb\" target=\"_parent\"><img src=\"https://colab.research.google.com/assets/colab-badge.svg\" alt=\"Open In Colab\"/></a>"
      ]
    },
    {
      "cell_type": "markdown",
      "metadata": {
        "id": "tL-umFOCbvNZ",
        "colab_type": "text"
      },
      "source": [
        "Import all the necessary modules"
      ]
    },
    {
      "cell_type": "code",
      "metadata": {
        "id": "OqzKHmkW9-vx",
        "colab_type": "code",
        "colab": {}
      },
      "source": [
        "from pickle import load\n",
        "from numpy import array\n",
        "from keras.preprocessing.text import Tokenizer\n",
        "from keras.preprocessing.sequence import pad_sequences\n",
        "from keras.utils import to_categorical\n",
        "from keras.utils.vis_utils import plot_model\n",
        "from keras.models import Sequential\n",
        "from keras.layers import LSTM, Activation, Dropout\n",
        "from keras.layers import Dense, Bidirectional\n",
        "from keras.layers import Embedding\n",
        "from keras.layers import RepeatVector\n",
        "from keras.layers import TimeDistributed\n",
        "from keras.callbacks import ModelCheckpoint\n",
        "from sklearn.model_selection import train_test_split\n",
        "import matplotlib.pyplot as plt\n",
        "from keras.optimizers import RMSprop"
      ],
      "execution_count": 0,
      "outputs": []
    },
    {
      "cell_type": "markdown",
      "metadata": {
        "id": "yoAZ2WQ4cmgb",
        "colab_type": "text"
      },
      "source": [
        "Now comes the part of loading our cleaned English and Hindi datasets and create tokenizer for English dataset and Hindi dataset and then we find the max length of sentences of English and Hindi. At last we encode sequences to prepare training data and validation data."
      ]
    },
    {
      "cell_type": "code",
      "metadata": {
        "id": "P3FJApFMcv2T",
        "colab_type": "code",
        "outputId": "f3c8e540-4b46-4ede-f51b-73a3bd3c30bd",
        "colab": {
          "base_uri": "https://localhost:8080/",
          "height": 85
        }
      },
      "source": [
        "# load a clean dataset\n",
        "def load_clean_sentences(filename):\n",
        "\treturn load(open(filename, 'rb'))\n",
        "\n",
        "# fit a tokenizer\n",
        "def create_tokenizer(lines):\n",
        "\ttokenizer = Tokenizer()\n",
        "\ttokenizer.fit_on_texts(lines)\n",
        "\treturn tokenizer\n",
        "\n",
        "# max sentence length\n",
        "def max_length(lines):\n",
        "\treturn max(len(line.split()) for line in lines)\n",
        "\n",
        "# encode and pad sequences\n",
        "def encode_sequences(tokenizer, length, lines):\n",
        "\t# integer encode sequences\n",
        "\tX = tokenizer.texts_to_sequences(lines)\n",
        "\t# pad sequences with 0 values\n",
        "\tX = pad_sequences(X, maxlen=length, padding='post')\n",
        "\treturn X\n",
        "\n",
        "# load datasets\n",
        "dataset = load_clean_sentences('en-hi-both.pkl')\n",
        "train = load_clean_sentences('en-hi-train.pkl')\n",
        "test = load_clean_sentences('en-hi-test.pkl')\n",
        "\n",
        "# prepare english tokenizer\n",
        "eng_tokenizer = create_tokenizer(dataset[:, 0])\n",
        "eng_vocab_size = len(eng_tokenizer.word_index) + 1\n",
        "eng_length = max_length(dataset[:, 0])\n",
        "print('English Vocabulary Size: %d' % eng_vocab_size)\n",
        "print('English Max Length: %d' % (eng_length))\n",
        "\n",
        "# prepare german tokenizer\n",
        "hin_tokenizer = create_tokenizer(dataset[:, 1])\n",
        "hin_vocab_size = len(hin_tokenizer.word_index) + 1\n",
        "hin_length = max_length(dataset[:, 1])\n",
        "print('Hindi Vocabulary Size: %d' % hin_vocab_size)\n",
        "print('Hindi Max Length: %d' % (hin_length))\n",
        "\n",
        "# prepare training data\n",
        "trainX = encode_sequences(eng_tokenizer, eng_length, train[:, 0])\n",
        "trainY = encode_sequences(hin_tokenizer, hin_length, train[:, 1])\n",
        "\n",
        "# prepare validation data\n",
        "testX = encode_sequences(eng_tokenizer, eng_length, test[:, 0])\n",
        "testY = encode_sequences(hin_tokenizer, hin_length, test[:, 1])"
      ],
      "execution_count": 34,
      "outputs": [
        {
          "output_type": "stream",
          "text": [
            "English Vocabulary Size: 36441\n",
            "English Max Length: 15\n",
            "Hindi Vocabulary Size: 49562\n",
            "Hindi Max Length: 17\n"
          ],
          "name": "stdout"
        }
      ]
    },
    {
      "cell_type": "markdown",
      "metadata": {
        "id": "V_FcATkrenpU",
        "colab_type": "text"
      },
      "source": [
        "Now comes the part to define our model. Lets do it!"
      ]
    },
    {
      "cell_type": "code",
      "metadata": {
        "id": "rmwfmLFMexnn",
        "colab_type": "code",
        "outputId": "36dad799-8265-4f6c-a173-46bd40a5eb1c",
        "colab": {
          "base_uri": "https://localhost:8080/",
          "height": 340
        }
      },
      "source": [
        "def define_model(src_vocab, tar_vocab, src_timesteps, tar_timesteps, n_units):\n",
        "\tmodel = Sequential()\n",
        "\tmodel.add(Embedding(src_vocab, n_units, input_length=src_timesteps, mask_zero=True))\n",
        "\tmodel.add(Bidirectional(LSTM(units=n_units)))\n",
        "\tmodel.add(RepeatVector(tar_timesteps))\n",
        "\tmodel.add(LSTM(n_units, return_sequences=True))\n",
        "\tmodel.add(Dense(tar_vocab, activation='softmax'))\n",
        "\treturn model\n",
        "\n",
        "model = define_model(eng_vocab_size, hin_vocab_size, eng_length, hin_length, 512)\n",
        "rms = RMSprop(lr=0.001)\n",
        "model.compile(optimizer=rms, loss='sparse_categorical_crossentropy')\n",
        "print(model.summary())"
      ],
      "execution_count": 24,
      "outputs": [
        {
          "output_type": "stream",
          "text": [
            "Model: \"sequential_6\"\n",
            "_________________________________________________________________\n",
            "Layer (type)                 Output Shape              Param #   \n",
            "=================================================================\n",
            "embedding_6 (Embedding)      (None, 15, 512)           18657792  \n",
            "_________________________________________________________________\n",
            "bidirectional_5 (Bidirection (None, 1024)              4198400   \n",
            "_________________________________________________________________\n",
            "repeat_vector_5 (RepeatVecto (None, 17, 1024)          0         \n",
            "_________________________________________________________________\n",
            "lstm_4 (LSTM)                (None, 17, 512)           3147776   \n",
            "_________________________________________________________________\n",
            "dense_5 (Dense)              (None, 17, 49562)         25425306  \n",
            "=================================================================\n",
            "Total params: 51,429,274\n",
            "Trainable params: 51,429,274\n",
            "Non-trainable params: 0\n",
            "_________________________________________________________________\n",
            "None\n"
          ],
          "name": "stdout"
        }
      ]
    },
    {
      "cell_type": "markdown",
      "metadata": {
        "id": "QgEyt8XUfB4U",
        "colab_type": "text"
      },
      "source": [
        "Now let us save the model. Dont forget to save checkpoints."
      ]
    },
    {
      "cell_type": "code",
      "metadata": {
        "id": "IN-Jc7KOfLB6",
        "colab_type": "code",
        "colab": {}
      },
      "source": [
        "filename = 'model.h1.24_april_20'\n",
        "checkpoint = ModelCheckpoint(filename, monitor='val_loss', verbose=1, save_best_only=True, mode='min')"
      ],
      "execution_count": 0,
      "outputs": []
    },
    {
      "cell_type": "markdown",
      "metadata": {
        "id": "wlmKN1Cvfi_Y",
        "colab_type": "text"
      },
      "source": [
        "Now let us train the model and keep a track of loss and validation loss which will help us to plot these two variables in a graph so we can visualize it easily."
      ]
    },
    {
      "cell_type": "code",
      "metadata": {
        "id": "f-9slzDxfw67",
        "colab_type": "code",
        "outputId": "0b452e4f-e904-4358-8c1e-25e8db941fcc",
        "colab": {
          "base_uri": "https://localhost:8080/",
          "height": 1000
        }
      },
      "source": [
        "history = model.fit(trainX, trainY.reshape(trainY.shape[0], trainY.shape[1], 1), epochs=30, batch_size=512, validation_split=0.1, callbacks=[checkpoint],  verbose=1)\n",
        "plt.plot(history.history['loss'])\n",
        "plt.plot(history.history['val_loss'])\n",
        "plt.legend(['train','validation'])\n",
        "plt.show()"
      ],
      "execution_count": 26,
      "outputs": [
        {
          "output_type": "stream",
          "text": [
            "/usr/local/lib/python3.6/dist-packages/tensorflow/python/framework/indexed_slices.py:434: UserWarning: Converting sparse IndexedSlices to a dense Tensor of unknown shape. This may consume a large amount of memory.\n",
            "  \"Converting sparse IndexedSlices to a dense Tensor of unknown shape. \"\n"
          ],
          "name": "stderr"
        },
        {
          "output_type": "stream",
          "text": [
            "Train on 216000 samples, validate on 24000 samples\n",
            "Epoch 1/30\n",
            "216000/216000 [==============================] - 267s 1ms/step - loss: 2.4804 - val_loss: 2.1540\n",
            "\n",
            "Epoch 00001: val_loss improved from inf to 2.15399, saving model to model.h1.24_april_20\n",
            "Epoch 2/30\n",
            "216000/216000 [==============================] - 265s 1ms/step - loss: 2.0001 - val_loss: 1.8702\n",
            "\n",
            "Epoch 00002: val_loss improved from 2.15399 to 1.87024, saving model to model.h1.24_april_20\n",
            "Epoch 3/30\n",
            "216000/216000 [==============================] - 264s 1ms/step - loss: 1.7322 - val_loss: 1.6587\n",
            "\n",
            "Epoch 00003: val_loss improved from 1.87024 to 1.65871, saving model to model.h1.24_april_20\n",
            "Epoch 4/30\n",
            "216000/216000 [==============================] - 265s 1ms/step - loss: 1.5301 - val_loss: 1.5019\n",
            "\n",
            "Epoch 00004: val_loss improved from 1.65871 to 1.50188, saving model to model.h1.24_april_20\n",
            "Epoch 5/30\n",
            "216000/216000 [==============================] - 265s 1ms/step - loss: 1.3713 - val_loss: 1.3912\n",
            "\n",
            "Epoch 00005: val_loss improved from 1.50188 to 1.39125, saving model to model.h1.24_april_20\n",
            "Epoch 6/30\n",
            "216000/216000 [==============================] - 264s 1ms/step - loss: 1.2429 - val_loss: 1.2997\n",
            "\n",
            "Epoch 00006: val_loss improved from 1.39125 to 1.29965, saving model to model.h1.24_april_20\n",
            "Epoch 7/30\n",
            "216000/216000 [==============================] - 263s 1ms/step - loss: 1.1369 - val_loss: 1.2326\n",
            "\n",
            "Epoch 00007: val_loss improved from 1.29965 to 1.23264, saving model to model.h1.24_april_20\n",
            "Epoch 8/30\n",
            "216000/216000 [==============================] - 263s 1ms/step - loss: 1.0509 - val_loss: 1.1904\n",
            "\n",
            "Epoch 00008: val_loss improved from 1.23264 to 1.19039, saving model to model.h1.24_april_20\n",
            "Epoch 9/30\n",
            "216000/216000 [==============================] - 263s 1ms/step - loss: 0.9782 - val_loss: 1.1434\n",
            "\n",
            "Epoch 00009: val_loss improved from 1.19039 to 1.14339, saving model to model.h1.24_april_20\n",
            "Epoch 10/30\n",
            "216000/216000 [==============================] - 264s 1ms/step - loss: 0.9148 - val_loss: 1.1100\n",
            "\n",
            "Epoch 00010: val_loss improved from 1.14339 to 1.10997, saving model to model.h1.24_april_20\n",
            "Epoch 11/30\n",
            "216000/216000 [==============================] - 262s 1ms/step - loss: 0.8616 - val_loss: 1.0906\n",
            "\n",
            "Epoch 00011: val_loss improved from 1.10997 to 1.09055, saving model to model.h1.24_april_20\n",
            "Epoch 12/30\n",
            "216000/216000 [==============================] - 264s 1ms/step - loss: 0.8144 - val_loss: 1.0715\n",
            "\n",
            "Epoch 00012: val_loss improved from 1.09055 to 1.07152, saving model to model.h1.24_april_20\n",
            "Epoch 13/30\n",
            "216000/216000 [==============================] - 263s 1ms/step - loss: 0.7728 - val_loss: 1.0634\n",
            "\n",
            "Epoch 00013: val_loss improved from 1.07152 to 1.06344, saving model to model.h1.24_april_20\n",
            "Epoch 14/30\n",
            "216000/216000 [==============================] - 266s 1ms/step - loss: 0.7361 - val_loss: 1.0518\n",
            "\n",
            "Epoch 00014: val_loss improved from 1.06344 to 1.05184, saving model to model.h1.24_april_20\n",
            "Epoch 15/30\n",
            "216000/216000 [==============================] - 265s 1ms/step - loss: 0.7023 - val_loss: 1.0513\n",
            "\n",
            "Epoch 00015: val_loss improved from 1.05184 to 1.05130, saving model to model.h1.24_april_20\n",
            "Epoch 16/30\n",
            "216000/216000 [==============================] - 265s 1ms/step - loss: 0.6725 - val_loss: 1.0474\n",
            "\n",
            "Epoch 00016: val_loss improved from 1.05130 to 1.04737, saving model to model.h1.24_april_20\n",
            "Epoch 17/30\n",
            "216000/216000 [==============================] - 264s 1ms/step - loss: 0.6448 - val_loss: 1.0430\n",
            "\n",
            "Epoch 00017: val_loss improved from 1.04737 to 1.04303, saving model to model.h1.24_april_20\n",
            "Epoch 18/30\n",
            "216000/216000 [==============================] - 264s 1ms/step - loss: 0.6191 - val_loss: 1.0449\n",
            "\n",
            "Epoch 00018: val_loss did not improve from 1.04303\n",
            "Epoch 19/30\n",
            "216000/216000 [==============================] - 263s 1ms/step - loss: 0.5964 - val_loss: 1.0482\n",
            "\n",
            "Epoch 00019: val_loss did not improve from 1.04303\n",
            "Epoch 20/30\n",
            "216000/216000 [==============================] - 263s 1ms/step - loss: 0.5746 - val_loss: 1.0542\n",
            "\n",
            "Epoch 00020: val_loss did not improve from 1.04303\n",
            "Epoch 21/30\n",
            "216000/216000 [==============================] - 262s 1ms/step - loss: 0.5545 - val_loss: 1.0568\n",
            "\n",
            "Epoch 00021: val_loss did not improve from 1.04303\n",
            "Epoch 22/30\n",
            "216000/216000 [==============================] - 263s 1ms/step - loss: 0.5350 - val_loss: 1.0594\n",
            "\n",
            "Epoch 00022: val_loss did not improve from 1.04303\n",
            "Epoch 23/30\n",
            "216000/216000 [==============================] - 262s 1ms/step - loss: 0.5163 - val_loss: 1.0633\n",
            "\n",
            "Epoch 00023: val_loss did not improve from 1.04303\n",
            "Epoch 24/30\n",
            "216000/216000 [==============================] - 262s 1ms/step - loss: 0.4998 - val_loss: 1.0697\n",
            "\n",
            "Epoch 00024: val_loss did not improve from 1.04303\n",
            "Epoch 25/30\n",
            "216000/216000 [==============================] - 262s 1ms/step - loss: 0.4850 - val_loss: 1.0756\n",
            "\n",
            "Epoch 00025: val_loss did not improve from 1.04303\n",
            "Epoch 26/30\n",
            "216000/216000 [==============================] - 261s 1ms/step - loss: 0.4700 - val_loss: 1.0784\n",
            "\n",
            "Epoch 00026: val_loss did not improve from 1.04303\n",
            "Epoch 27/30\n",
            "216000/216000 [==============================] - 263s 1ms/step - loss: 0.4561 - val_loss: 1.0874\n",
            "\n",
            "Epoch 00027: val_loss did not improve from 1.04303\n",
            "Epoch 28/30\n",
            "216000/216000 [==============================] - 262s 1ms/step - loss: 0.4432 - val_loss: 1.0884\n",
            "\n",
            "Epoch 00028: val_loss did not improve from 1.04303\n",
            "Epoch 29/30\n",
            "216000/216000 [==============================] - 261s 1ms/step - loss: 0.4308 - val_loss: 1.0946\n",
            "\n",
            "Epoch 00029: val_loss did not improve from 1.04303\n",
            "Epoch 30/30\n",
            "216000/216000 [==============================] - 263s 1ms/step - loss: 0.4192 - val_loss: 1.0990\n",
            "\n",
            "Epoch 00030: val_loss did not improve from 1.04303\n"
          ],
          "name": "stdout"
        },
        {
          "output_type": "display_data",
          "data": {
            "image/png": "[encoded data removed]",
            "text/plain": [
              "<Figure size 432x288 with 1 Axes>"
            ]
          },
          "metadata": {
            "tags": [],
            "needs_background": "light"
          }
        }
      ]
    },
    {
      "cell_type": "markdown",
      "metadata": {
        "id": "GqB0VGVaf-en",
        "colab_type": "text"
      },
      "source": [
        "Okay so now we are done with training. As we can see the graph, that is a pretty smooth curve! Now is the time to test our model. First we will load the model then make predictions over the test dataset we created."
      ]
    },
    {
      "cell_type": "code",
      "metadata": {
        "id": "9dpxYHbigGdu",
        "colab_type": "code",
        "colab": {
          "base_uri": "https://localhost:8080/",
          "height": 71
        },
        "outputId": "7f520320-e890-4d9f-db47-9539a7b62839"
      },
      "source": [
        "from keras.models import load_model\n",
        "\n",
        "testX=testX[0:100] # lets take 50 sentences of test data set\n",
        "\n",
        "model = load_model('model.h1.24_april_20')\n",
        "\n",
        "preds = model.predict_classes(testX.reshape((testX.shape[0],testX.shape[1])))\n",
        "\n",
        "# a function that is going to grab words.\n",
        "def get_word(n, tokenizer):\n",
        "      for word, index in tokenizer.word_index.items():\n",
        "          if index == n:\n",
        "              return word\n",
        "      return None\n",
        "\n",
        "preds_text = []\n",
        "for i in preds:\n",
        "       temp = []\n",
        "       for j in range(len(i)):\n",
        "            t = get_word(i[j], hin_tokenizer)\n",
        "            if j > 0:\n",
        "                if (t == get_word(i[j-1], hin_tokenizer)) or (t == None):\n",
        "                     temp.append('')\n",
        "                else:\n",
        "                     temp.append(t)\n",
        "            else:\n",
        "                   if(t == None):\n",
        "                          temp.append('')\n",
        "                   else:\n",
        "                          temp.append(t) \n",
        "\n",
        "       preds_text.append(' '.join(temp))"
      ],
      "execution_count": 36,
      "outputs": [
        {
          "output_type": "stream",
          "text": [
            "/usr/local/lib/python3.6/dist-packages/tensorflow/python/framework/indexed_slices.py:434: UserWarning: Converting sparse IndexedSlices to a dense Tensor of unknown shape. This may consume a large amount of memory.\n",
            "  \"Converting sparse IndexedSlices to a dense Tensor of unknown shape. \"\n"
          ],
          "name": "stderr"
        }
      ]
    },
    {
      "cell_type": "markdown",
      "metadata": {
        "id": "f1joGDMwgY9P",
        "colab_type": "text"
      },
      "source": [
        "Okay so now time to visualize predictions."
      ]
    },
    {
      "cell_type": "code",
      "metadata": {
        "id": "NNCi_h-Ggd_N",
        "colab_type": "code",
        "outputId": "e1852da8-6e72-486a-c0e0-a1961d59239f",
        "colab": {
          "base_uri": "https://localhost:8080/",
          "height": 514
        }
      },
      "source": [
        "import pandas as pd\n",
        "pred_df = pd.DataFrame({'input' : test[0:50,0], 'actual' : test[0:50,1], 'predicted' : preds_text})\n",
        "pred_df.sample(15)"
      ],
      "execution_count": 46,
      "outputs": [
        {
          "output_type": "execute_result",
          "data": {
            "text/html": [
              "<div>\n",
              "<style scoped>\n",
              "    .dataframe tbody tr th:only-of-type {\n",
              "        vertical-align: middle;\n",
              "    }\n",
              "\n",
              "    .dataframe tbody tr th {\n",
              "        vertical-align: top;\n",
              "    }\n",
              "\n",
              "    .dataframe thead th {\n",
              "        text-align: right;\n",
              "    }\n",
              "</style>\n",
              "<table border=\"1\" class=\"dataframe\">\n",
              "  <thead>\n",
              "    <tr style=\"text-align: right;\">\n",
              "      <th></th>\n",
              "      <th>input</th>\n",
              "      <th>actual</th>\n",
              "      <th>predicted</th>\n",
              "    </tr>\n",
              "  </thead>\n",
              "  <tbody>\n",
              "    <tr>\n",
              "      <th>46</th>\n",
              "      <td>custom location</td>\n",
              "      <td>पसंदीदा स्थानः</td>\n",
              "      <td>अनुकूलित स्थान</td>\n",
              "    </tr>\n",
              "    <tr>\n",
              "      <th>7</th>\n",
              "      <td>if it snows tomorrow i ll build a snowman</td>\n",
              "      <td>अगर कल बर्फ़ गिरी तो मैं स्नोमैन बनाऊंगा।</td>\n",
              "      <td>अगर कल   तो</td>\n",
              "    </tr>\n",
              "    <tr>\n",
              "      <th>42</th>\n",
              "      <td>close the current archive</td>\n",
              "      <td>वर्तमान अभिलेख बन्द करें</td>\n",
              "      <td>वर्तमान अभिलेख बन्द करें</td>\n",
              "    </tr>\n",
              "    <tr>\n",
              "      <th>25</th>\n",
              "      <td>paragraph background set</td>\n",
              "      <td>पैराग्राफ पृष्ठभूमि सेट</td>\n",
              "      <td>पृष्ठभूमि</td>\n",
              "    </tr>\n",
              "    <tr>\n",
              "      <th>17</th>\n",
              "      <td>select a disc to write to</td>\n",
              "      <td>डिस्क चुनें जिसमें लिखना है</td>\n",
              "      <td>डिस्क चुनें जिसमें लिखना है</td>\n",
              "    </tr>\n",
              "    <tr>\n",
              "      <th>44</th>\n",
              "      <td>krecipes exported recipes</td>\n",
              "      <td>केरेसिपि निर्यात किए गए रेसिपि</td>\n",
              "      <td>परवरदिगार निर्दिष्ट कॉन्फ़िगर</td>\n",
              "    </tr>\n",
              "    <tr>\n",
              "      <th>34</th>\n",
              "      <td>member</td>\n",
              "      <td>सदस्य</td>\n",
              "      <td>सदस्य</td>\n",
              "    </tr>\n",
              "    <tr>\n",
              "      <th>37</th>\n",
              "      <td>this which we recite unto thee is of the signs...</td>\n",
              "      <td>ये आयतें है और हिकमत तत्वज्ञान से परिपूर्ण अनु...</td>\n",
              "      <td>ये आयतें है और हिकमत तत्वज्ञान से परिपूर्ण अनु...</td>\n",
              "    </tr>\n",
              "    <tr>\n",
              "      <th>0</th>\n",
              "      <td>choosing books help is at hand</td>\n",
              "      <td>किताबें चुननासहायता समीप ही उपलब्ध है।</td>\n",
              "      <td>यहां के    हैं</td>\n",
              "    </tr>\n",
              "    <tr>\n",
              "      <th>11</th>\n",
              "      <td>and restrain their carnal desires</td>\n",
              "      <td>और जो अपने गुप्तांगों की रक्षा करते है</td>\n",
              "      <td>और जो अपनी शर्मगाहों को हराम को बचाते</td>\n",
              "    </tr>\n",
              "    <tr>\n",
              "      <th>43</th>\n",
              "      <td>these are the oldest known books in the histor...</td>\n",
              "      <td>विश्व के वाङ्मय में इनसे प्राचीनतम कोई पुस्तक ...</td>\n",
              "      <td>ये दोनों इन धर्म   की में  से है।</td>\n",
              "    </tr>\n",
              "    <tr>\n",
              "      <th>38</th>\n",
              "      <td>gambia</td>\n",
              "      <td>गामाः</td>\n",
              "      <td>अत्यन्त</td>\n",
              "    </tr>\n",
              "    <tr>\n",
              "      <th>14</th>\n",
              "      <td>passphrase dialog</td>\n",
              "      <td>पोर्ट</td>\n",
              "      <td>एक संवाद</td>\n",
              "    </tr>\n",
              "    <tr>\n",
              "      <th>39</th>\n",
              "      <td>connected to host</td>\n",
              "      <td>होस्ट 1 से जुड़ा है</td>\n",
              "      <td>होस्ट से कनेक्टेड</td>\n",
              "    </tr>\n",
              "    <tr>\n",
              "      <th>10</th>\n",
              "      <td>we command but once our will is done in the tw...</td>\n",
              "      <td>और हमारा हुक्म तो बस ऑंख के झपकने की तरह एक बा...</td>\n",
              "      <td>और हमने  एक  बस है वह  एक  भी है</td>\n",
              "    </tr>\n",
              "  </tbody>\n",
              "</table>\n",
              "</div>"
            ],
            "text/plain": [
              "                                                input  ...                                          predicted\n",
              "46                                    custom location  ...                      अनुकूलित स्थान               \n",
              "7           if it snows tomorrow i ll build a snowman  ...                            अगर कल   तो            \n",
              "42                          close the current archive  ...              वर्तमान अभिलेख बन्द करें             \n",
              "25                           paragraph background set  ...                          पृष्ठभूमि                \n",
              "17                          select a disc to write to  ...            डिस्क चुनें जिसमें लिखना है            \n",
              "44                          krecipes exported recipes  ...        परवरदिगार निर्दिष्ट कॉन्फ़िगर              \n",
              "34                                             member  ...                              सदस्य                \n",
              "37  this which we recite unto thee is of the signs...  ...  ये आयतें है और हिकमत तत्वज्ञान से परिपूर्ण अनु...\n",
              "0                      choosing books help is at hand  ...                          यहां के    हैं           \n",
              "11                  and restrain their carnal desires  ...     और जो अपनी शर्मगाहों को हराम को बचाते         \n",
              "43  these are the oldest known books in the histor...  ...            ये दोनों इन धर्म   की में  से है।      \n",
              "38                                             gambia  ...                            अत्यन्त                \n",
              "14                                  passphrase dialog  ...                            एक संवाद               \n",
              "39                                  connected to host  ...                    होस्ट से कनेक्टेड              \n",
              "10  we command but once our will is done in the tw...  ...               और हमने  एक  बस है वह  एक  भी है    \n",
              "\n",
              "[15 rows x 3 columns]"
            ]
          },
          "metadata": {
            "tags": []
          },
          "execution_count": 46
        }
      ]
    },
    {
      "cell_type": "markdown",
      "metadata": {
        "id": "pV1DPC6ej9Ui",
        "colab_type": "text"
      },
      "source": [
        "Okay so now we got some satisfying results. That is it. We are done with translation."
      ]
    }
  ]
}